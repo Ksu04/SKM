{
  "nbformat": 4,
  "nbformat_minor": 0,
  "metadata": {
    "colab": {
      "provenance": [],
      "authorship_tag": "ABX9TyM/Xn0+7+YAW3CMNBPbvTtH",
      "include_colab_link": true
    },
    "kernelspec": {
      "name": "python3",
      "display_name": "Python 3"
    },
    "language_info": {
      "name": "python"
    }
  },
  "cells": [
    {
      "cell_type": "markdown",
      "metadata": {
        "id": "view-in-github",
        "colab_type": "text"
      },
      "source": [
        "<a href=\"https://colab.research.google.com/github/Ksu04/SKM/blob/main/Ichetovkina_PR1.ipynb\" target=\"_parent\"><img src=\"https://colab.research.google.com/assets/colab-badge.svg\" alt=\"Open In Colab\"/></a>"
      ]
    },
    {
      "cell_type": "markdown",
      "metadata": {
        "id": "sNHXXL9VhDgH"
      },
      "source": [
        "## 29. Нелинейный метод наименьших квадратов\n",
        "\n",
        "Задание: \n",
        "\n",
        "[Ratkowsky D. A. Nonlinear Regression Modeling. 1983]\n",
        "\n",
        "Нелинейным методом наименьших квадратов\n",
        "построить модели вида\n",
        "$$\n",
        "y = \\frac{\\beta_1}{1 + \\beta_2 e^{-\\beta_3 t}},\n",
        "\\qquad\n",
        "\\mbox{и}\n",
        "\\qquad\n",
        "y = \\frac{\\beta_1}{(1 + \\beta_2 e^{-\\beta_3 t})^{1/\\beta_4}},\n",
        "$$\n",
        "для данных, приведенных в таблице\n",
        "```\n",
        "    t         y    \n",
        "  ----------------   \n",
        "    1       16.08    \n",
        "    2       33.83  \n",
        "    3       65.80  \n",
        "    4       97.20  \n",
        "    5      191.55  \n",
        "    6      326.20  \n",
        "    7      386.87  \n",
        "    8      520.53  \n",
        "    9      590.03  \n",
        "   10      651.92  \n",
        "   11      724.93  \n",
        "   12      699.56  \n",
        "   13      689.96  \n",
        "   14      637.56  \n",
        "   15      717.41             \n",
        "```\n",
        "Предиктор $t$ – время, \n",
        "переменная отклика $y$ – вес сухой луковицы вместе с надземной частью растения.\n",
        "Найти общую ошибку в каждом из этих случаев и сравнить результаты."
      ]
    },
    {
      "cell_type": "markdown",
      "source": [
        "**Немного о методе наименьших линейных квадратов**\n",
        "\n",
        "Для точек с координатами \n",
        "\n",
        "$(x_1, y_1), ... (x_m, y_m)$ \n",
        "\n",
        "ищем функцию \n",
        "\n",
        "$y_i ≈ {\\beta_0} + {\\beta_1}x_i     (i = 1, 2, ..., m)$,\n",
        "\n",
        "в которой остаточная сумма квадратов ${\\beta_0}$, ${\\beta_1}$ минимальна, т.е.\n",
        "\n",
        "$ R({\\beta_0}, {\\beta_1}) = \\sum\\limits_{i=1}^{m}(y_i-{\\beta_0} - {\\beta_1}x_i)^2 → min $."
      ],
      "metadata": {
        "id": "evoInn-lLXhv"
      }
    },
    {
      "cell_type": "code",
      "source": [
        "# Необходимые библиотеки\n",
        "import matplotlib.pyplot as plt\n",
        "from scipy.optimize import curve_fit\n",
        "import numpy as np"
      ],
      "metadata": {
        "id": "jYwH5zcj07Jz"
      },
      "execution_count": 2,
      "outputs": []
    },
    {
      "cell_type": "markdown",
      "source": [
        "Апроксимирующие функции\n",
        "\n",
        "Пусть ${\\beta_1}$ = `b1`; ${\\beta_2}$ =` b2`; ${\\beta_3}$ = `b3`; ${\\beta_4}$ = `b4`; $t$ = `t`."
      ],
      "metadata": {
        "id": "U9fPzJxP14Kx"
      }
    },
    {
      "cell_type": "code",
      "source": [
        "def f1(b1, b2, b3, t):\n",
        "  return (b1/(1+b2*np.exp(-1*b3*t)))\n",
        "\n",
        "def f2(b1,b2,b3,b4,t):\n",
        "  return (b1/((1+b2*np.exp(-1*b3*t))**(1/b4)))"
      ],
      "metadata": {
        "id": "RNlDB9vG1_GH"
      },
      "execution_count": 3,
      "outputs": []
    },
    {
      "cell_type": "markdown",
      "source": [
        "Начальные значения"
      ],
      "metadata": {
        "id": "P50z7yTs9XX9"
      }
    },
    {
      "cell_type": "code",
      "source": [
        "t = np.arange(1,16,1)\n",
        "y = [16.08,33.83,65.80,97.20,191.55,326.20,386.87,520.53,590.03,651.92,724.93,699.56,689.96,637.56,717.41]"
      ],
      "metadata": {
        "id": "0al1H7eZ9oqg"
      },
      "execution_count": 4,
      "outputs": []
    },
    {
      "cell_type": "markdown",
      "source": [
        "Функция `curve_fit` использует МНК (метод наименьших квадратов, чтобы построенная функция максимально совпадала с исходными данными."
      ],
      "metadata": {
        "id": "vzKDhR2bKFko"
      }
    },
    {
      "cell_type": "code",
      "source": [
        "p1 = [701, 99, 0.71]\n",
        "popt1, pcov1 = curve_fit(f1, t, y, p1)\n",
        "\n",
        "p2 = [705, 157, 0.71, 1.35]\n",
        "popt2, pcov2 = curve_fit(f2, t, y, p2)"
      ],
      "metadata": {
        "id": "6-dMLVAVFRHh"
      },
      "execution_count": 13,
      "outputs": []
    },
    {
      "cell_type": "markdown",
      "source": [
        "**Модель для f1**"
      ],
      "metadata": {
        "id": "PborWD4ZYv39"
      }
    },
    {
      "cell_type": "code",
      "source": [
        "print(\"[β1 β2 β3] =\", popt1)"
      ],
      "metadata": {
        "colab": {
          "base_uri": "https://localhost:8080/"
        },
        "id": "_09zmaZPe8Wi",
        "outputId": "61f88f01-816c-45e8-c2ab-51a631e45068"
      },
      "execution_count": 6,
      "outputs": [
        {
          "output_type": "stream",
          "name": "stdout",
          "text": [
            "[β1 β2 β3] = [701.    99.     0.71]\n"
          ]
        }
      ]
    },
    {
      "cell_type": "code",
      "source": [
        "y1 = np.empty (15, dtype = float)\n",
        "for i in range (0, 15):\n",
        "  y1[i] = f1(popt1[0], popt1[1], popt1[2], t[i])\n",
        "plt.plot(t, y1, label='МНК')\n",
        "plt.plot(t, y, \"ko\",  label='Исходные данные')\n",
        "plt.legend()\n",
        "pass"
      ],
      "metadata": {
        "id": "ZSdt0xljY5MN",
        "colab": {
          "base_uri": "https://localhost:8080/",
          "height": 482
        },
        "outputId": "1647c66f-f15f-4be1-adb4-06897772fc77"
      },
      "execution_count": 7,
      "outputs": [
        {
          "output_type": "stream",
          "name": "stdout",
          "text": [
            "y1 =  [ 14.11235817  28.11908473  54.91624958 103.32922137 182.3744902\n",
            " 292.31378151 415.43900405 523.93889287 601.12471346 648.06274372\n",
            " 673.93468419 687.42709361 694.2606244  697.67035209 699.35903563]\n"
          ]
        },
        {
          "output_type": "display_data",
          "data": {
            "text/plain": [
              "<Figure size 640x480 with 1 Axes>"
            ],
            "image/png": "[encoded data removed]"
          },
          "metadata": {}
        }
      ]
    },
    {
      "cell_type": "markdown",
      "source": [
        "**Модель для f2**"
      ],
      "metadata": {
        "id": "72-b9s3IMFF1"
      }
    },
    {
      "cell_type": "code",
      "source": [
        "print(\"[β1 β2 β3] =\", popt2)\n",
        "y2 = np.empty (15, dtype = float)\n",
        "for i in range (0, 15):\n",
        "  y2[i] = f2(popt2[0], popt2[1], popt2[2], popt2[3], t[i])\n",
        "plt.plot(t, y2, label='МНК')\n",
        "plt.plot(t, y, \"ko\", label='Исходные данные')\n",
        "plt.legend()\n",
        "pass"
      ],
      "metadata": {
        "colab": {
          "base_uri": "https://localhost:8080/",
          "height": 447
        },
        "id": "OBXtTKByMJuK",
        "outputId": "f95a69de-b3bb-4a95-c30d-51f837e9b341"
      },
      "execution_count": 19,
      "outputs": [
        {
          "output_type": "stream",
          "name": "stdout",
          "text": [
            "[β1 β2 β3] = [705.   157.     0.71   1.35]\n"
          ]
        },
        {
          "output_type": "display_data",
          "data": {
            "text/plain": [
              "<Figure size 640x480 with 1 Axes>"
            ],
            "image/png": "[encoded data removed]"
          },
          "metadata": {}
        }
      ]
    },
    {
      "cell_type": "markdown",
      "source": [
        "Общая ошибка вычисляется по формуле \n",
        "\n",
        "$ er = \\frac{\\sum\\limits_{i=1}^{n}(y_i-f_i(x))^2}{n} $"
      ],
      "metadata": {
        "id": "p_tbE0qpMx67"
      }
    },
    {
      "cell_type": "code",
      "source": [
        "er1 = np.array(y-y1)\n",
        "for i in range(0, 15):\n",
        "  er1[i] = er1[i]**2\n",
        "error1 = sum(er1)/15\n",
        "print(\"Ошибка f1: \", error1)"
      ],
      "metadata": {
        "colab": {
          "base_uri": "https://localhost:8080/"
        },
        "id": "DSR-tIQUODuK",
        "outputId": "b092c448-b486-4878-8af2-030e1a17d79c"
      },
      "execution_count": 9,
      "outputs": [
        {
          "output_type": "stream",
          "name": "stdout",
          "text": [
            "Ошибка f1:  606.4047819800501\n"
          ]
        }
      ]
    },
    {
      "cell_type": "code",
      "source": [
        "er2 = np.array(y-y2)\n",
        "for i in range(0, 15):\n",
        "  er2[i] = er2[i]**2\n",
        "error2 = sum(er2)/15\n",
        "print(\"Ошибка f2: \", error2)"
      ],
      "metadata": {
        "colab": {
          "base_uri": "https://localhost:8080/"
        },
        "id": "9zIxz6zXPb7I",
        "outputId": "be1c00f0-2357-43a1-8126-a9a0e4fe04c0"
      },
      "execution_count": 20,
      "outputs": [
        {
          "output_type": "stream",
          "name": "stdout",
          "text": [
            "Ошибка f2:  657.7256791157617\n"
          ]
        }
      ]
    },
    {
      "cell_type": "markdown",
      "source": [
        "Вывод: ошибка в первом случае меньше, поэтому первая формула (с 3 параметрами) точнее"
      ],
      "metadata": {
        "id": "P2-UWUzOWRxn"
      }
    }
  ]
}